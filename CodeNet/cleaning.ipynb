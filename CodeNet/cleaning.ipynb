{
 "cells": [
  {
   "cell_type": "code",
   "execution_count": 15,
   "metadata": {},
   "outputs": [
    {
     "name": "stdout",
     "output_type": "stream",
     "text": [
      "Extraction complete. Functions saved to functions.jsonl\n"
     ]
    }
   ],
   "source": [
    "import os\n",
    "import re\n",
    "import json\n",
    "import textwrap\n",
    "\n",
    "def extract_main_function(file_content):\n",
    "    # Regular expression to find the main function in C++ code\n",
    "    pattern = r'int\\s+main\\s*\\(\\s*\\)\\s*{([^{}]*)}'\n",
    "    match = re.search(pattern, file_content, re.DOTALL)\n",
    "    if match:\n",
    "        main_code = match.group(1).strip()\n",
    "        return main_code\n",
    "    return None\n",
    "\n",
    "def process_cpp_files(folder_path):\n",
    "    main_functions = []\n",
    "    for filename in os.listdir(folder_path):\n",
    "        if filename.endswith(\".cpp\"):\n",
    "            with open(os.path.join(folder_path, filename), 'r') as file:\n",
    "                file_content = file.read()\n",
    "                main_code = extract_main_function(file_content)\n",
    "                if main_code:\n",
    "                    formatted_main_code = textwrap.indent(main_code, '    ')  # Add 4 spaces indentation\n",
    "                    main_functions.append({\"code_string\": formatted_main_code})\n",
    "    return main_functions\n",
    "\n",
    "def save_to_jsonl(data, output_file):\n",
    "    with open(output_file, 'w') as f:\n",
    "        for item in data:\n",
    "            f.write(json.dumps(item) + '\\n')\n",
    "\n",
    "\n",
    "folder_path = \"cplusplus\"\n",
    "output_file = \"functions.jsonl\"\n",
    "functions = process_cpp_files(folder_path)\n",
    "save_to_jsonl(functions, output_file)\n",
    "print(\"Extraction complete. Functions saved to functions.jsonl\")"
   ]
  },
  {
   "cell_type": "code",
   "execution_count": 21,
   "metadata": {},
   "outputs": [],
   "source": [
    "import json\n",
    "import random\n",
    "\n",
    "def mask_token(code_string):\n",
    "    tokens = code_string.split()\n",
    "    if len(tokens) == 0:\n",
    "        return None\n",
    "    token_to_mask = random.choice(tokens)\n",
    "    masked_code_string = code_string.replace(token_to_mask, \"<mask>\", 1)  # Apply mask only once\n",
    "    return masked_code_string, token_to_mask\n",
    "\n",
    "def mask_dataset(input_file, output_file, num_duplicates):\n",
    "    with open(input_file, 'r') as f:\n",
    "        data = f.readlines()\n",
    "\n",
    "    modified_data = []\n",
    "    for line in data:\n",
    "        obj = json.loads(line)\n",
    "        for _ in range(num_duplicates):\n",
    "            code_string = obj['code_string']\n",
    "            masked_code_string, masked_token = mask_token(code_string)\n",
    "            obj_copy = obj.copy()\n",
    "            obj_copy['output'] = masked_token\n",
    "            obj_copy['code_string'] = masked_code_string\n",
    "            modified_data.append(obj_copy)\n",
    "\n",
    "    with open(output_file, 'w') as f:\n",
    "        for obj in modified_data:\n",
    "            f.write(json.dumps(obj) + '\\n')\n",
    "\n",
    "# Usage\n",
    "input_file = 'functions.jsonl'\n",
    "output_file = 'masked_functions.jsonl'\n",
    "num_duplicates = 12\n",
    "mask_dataset(input_file, output_file, num_duplicates)"
   ]
  }
 ],
 "metadata": {
  "kernelspec": {
   "display_name": ".venv",
   "language": "python",
   "name": "python3"
  },
  "language_info": {
   "codemirror_mode": {
    "name": "ipython",
    "version": 3
   },
   "file_extension": ".py",
   "mimetype": "text/x-python",
   "name": "python",
   "nbconvert_exporter": "python",
   "pygments_lexer": "ipython3",
   "version": "3.12.2"
  }
 },
 "nbformat": 4,
 "nbformat_minor": 2
}
