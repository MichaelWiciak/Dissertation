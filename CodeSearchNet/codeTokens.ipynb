{
 "cells": [
  {
   "cell_type": "code",
   "execution_count": 2,
   "metadata": {},
   "outputs": [],
   "source": [
    "# from the test dataset, just extract code_tokens that are less than 510 tokens long\n",
    "# the data dataset is in [python,java]/test.jsonl\n",
    "# the output is in [python,java]/test_tokensOnly.jsonl\n",
    "\n",
    "import json\n",
    "import sys\n",
    "import os\n",
    "\n",
    "def main():\n",
    "\n",
    "    lang = \"python\"\n",
    "    \n",
    "    input_file = \"python/test.jsonl\"\n",
    "    output_file = \"python/test_tokensOnly.jsonl\"\n",
    "\n",
    "    # Load data from your JSON file\n",
    "    with open(f'{input_file}', 'r') as file:\n",
    "        data = [json.loads(line) for line in file]\n",
    "\n",
    "    # Filter code_tokens less than 510 tokens long\n",
    "    filtered_data = []\n",
    "    for item in data:\n",
    "        if len(item['code_tokens']) < 510:\n",
    "            filtered_data.append({'code_tokens': item['code_tokens']})\n",
    "\n",
    "    # Save filtered data to a new JSON file\n",
    "    with open(f'{output_file}_{lang}.jsonl', 'w') as file:\n",
    "        for item in filtered_data:\n",
    "            json.dump(item, file)\n",
    "            file.write('\\n')\n",
    "    \n",
    "main()"
   ]
  }
 ],
 "metadata": {
  "kernelspec": {
   "display_name": ".venv",
   "language": "python",
   "name": "python3"
  },
  "language_info": {
   "codemirror_mode": {
    "name": "ipython",
    "version": 3
   },
   "file_extension": ".py",
   "mimetype": "text/x-python",
   "name": "python",
   "nbconvert_exporter": "python",
   "pygments_lexer": "ipython3",
   "version": "3.12.2"
  }
 },
 "nbformat": 4,
 "nbformat_minor": 2
}
